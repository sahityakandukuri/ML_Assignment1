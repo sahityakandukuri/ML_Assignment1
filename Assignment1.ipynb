{
 "cells": [
  {
   "cell_type": "code",
   "execution_count": 25,
   "id": "e9330961",
   "metadata": {},
   "outputs": [
    {
     "name": "stdout",
     "output_type": "stream",
     "text": [
      "ages sort [19, 19, 20, 22, 24, 24, 24, 25, 25, 26]\n",
      "Minimum of ages 19\n",
      "Maximum of ages 26\n",
      "Appending maximum and minimum of ages [19, 19, 20, 22, 24, 24, 24, 25, 25, 26, 19, 26]\n",
      "Median of ages 24.0\n",
      "Average of ages 22.75\n",
      "Ranges of ages 7\n"
     ]
    }
   ],
   "source": [
    "ages=[19, 22, 19, 24, 20, 25, 26, 24, 25, 24]\n",
    "ages.sort()\n",
    "print(\"ages sort\",ages);\n",
    "minAge=min(ages);\n",
    "print(\"Minimum of ages\",minAge);\n",
    "maxAge=max(ages);\n",
    "print(\"Maximum of ages\",maxAge);\n",
    "ages.append(min(ages));\n",
    "ages.append(max(ages));\n",
    "print(\"Appending maximum and minimum of ages\",ages);\n",
    "#using library to find median;\n",
    "import statistics\n",
    "print(\"Median of ages\",statistics.median(ages))\n",
    "average= (sum(ages)/len(ages));\n",
    "print(\"Average of ages\",average);\n",
    "rangeOfAge=maxAge-minAge\n",
    "print(\"Range of ages\",rangeOfAge);"
   ]
  },
  {
   "cell_type": "code",
   "execution_count": 49,
   "id": "1b216800",
   "metadata": {
    "scrolled": true
   },
   "outputs": [
    {
     "name": "stdout",
     "output_type": "stream",
     "text": [
      "{'name': 'tiger', 'color': 'brown', 'breed': 'germansheperd', 'age': '10'}\n",
      "{'first_name': 'sowmya', 'last_name': 'kandukuri', 'gender': 'F', 'age': '23', 'maritial status': 'no', 'skills': ['java', 'python', 'c'], 'country': 'xyz', 'city': 'yyy', 'address': 'abc'}\n",
      "length of the student dictionary: 9\n",
      "['java', 'python', 'c']\n",
      "<class 'list'>\n",
      "{'first_name': 'sowmya', 'last_name': 'kandukuri', 'gender': 'F', 'age': '23', 'maritial status': 'no', 'skills': ['java', 'python', 'c', 'reactjs'], 'country': 'xyz', 'city': 'yyy', 'address': 'abc'}\n",
      "dict_keys(['first_name', 'last_name', 'gender', 'age', 'maritial status', 'skills', 'country', 'city', 'address'])\n",
      "dict_values(['sowmya', 'kandukuri', 'F', '23', 'no', ['java', 'python', 'c', 'reactjs'], 'xyz', 'yyy', 'abc'])\n"
     ]
    }
   ],
   "source": [
    "dog={}\n",
    "dog={'name':'tiger','color':'brown','breed':'germansheperd','age':'10'}\n",
    "print(dog)\n",
    "student={}\n",
    "student={'first_name':'sowmya','last_name':'kandukuri','gender':'F','age':'23','maritial status':'no','skills':['java','python','c'],\n",
    "         'country':'xyz','city':'yyy','address':'abc'}\n",
    "print(student)\n",
    "print(\"length of the student dictionary:\",len(student))\n",
    "print(student['skills'])\n",
    "print(type(student['skills']))\n",
    "student['skills'].append('reactjs')\n",
    "print(student)\n",
    "print(student.keys())\n",
    "print(student.values())"
   ]
  },
  {
   "cell_type": "code",
   "execution_count": 51,
   "id": "9082b863",
   "metadata": {},
   "outputs": [
    {
     "name": "stdout",
     "output_type": "stream",
     "text": [
      "siblings are: ('sowmya', 'shashi', 'samrat', 'vivaan')\n",
      "no of siblings: 4\n",
      "family members: ('sowmya', 'shashi', 'samrat', 'vivaan', 'shashikala', 'murthy')\n"
     ]
    }
   ],
   "source": [
    "sisters=(\"sowmya\",\"shashi\")\n",
    "brothers=(\"samrat\",\"vivaan\")\n",
    "siblings=sisters+brothers;\n",
    "print(\"siblings are:\",siblings)\n",
    "print(\"no of siblings:\",len(siblings))\n",
    "familyMembers=siblings+(\"shashikala\",\"murthy\")\n",
    "print(\"family members:\",familyMembers)"
   ]
  },
  {
   "cell_type": "code",
   "execution_count": 29,
   "id": "cb215904",
   "metadata": {
    "scrolled": true
   },
   "outputs": [
    {
     "name": "stdout",
     "output_type": "stream",
     "text": [
      "Length if it_companies: 7\n",
      "{'Microsoft', 'Amazon', 'Apple', 'Facebook', 'Google', 'IBM', 'Oracle', 'Twitter'}\n",
      "{'Amazon', 'Apple', 'Google', 'IBM', 'Sutherland', 'Hewlett-Packard', 'Microsoft', 'Facebook', 'Thomson reuters', 'Oracle', 'Twitter'}\n",
      "{'Amazon', 'Apple', 'Google', 'IBM', 'Sutherland', 'Hewlett-Packard', 'Microsoft', 'Facebook', 'Thomson reuters', 'Twitter'}\n",
      "set()\n"
     ]
    },
    {
     "ename": "NameError",
     "evalue": "name 'it_companies' is not defined",
     "output_type": "error",
     "traceback": [
      "\u001b[1;31m---------------------------------------------------------------------------\u001b[0m",
      "\u001b[1;31mNameError\u001b[0m                                 Traceback (most recent call last)",
      "\u001b[1;32m~\\AppData\\Local\\Temp\\ipykernel_22068\\3682810804.py\u001b[0m in \u001b[0;36m<module>\u001b[1;34m\u001b[0m\n\u001b[0;32m     23\u001b[0m \u001b[1;32mdel\u001b[0m \u001b[0mit_companies\u001b[0m\u001b[1;33m\u001b[0m\u001b[1;33m\u001b[0m\u001b[0m\n\u001b[0;32m     24\u001b[0m \u001b[1;33m\u001b[0m\u001b[0m\n\u001b[1;32m---> 25\u001b[1;33m \u001b[0mprint\u001b[0m\u001b[1;33m(\u001b[0m\u001b[0mit_companies\u001b[0m\u001b[1;33m)\u001b[0m\u001b[1;33m\u001b[0m\u001b[1;33m\u001b[0m\u001b[0m\n\u001b[0m",
      "\u001b[1;31mNameError\u001b[0m: name 'it_companies' is not defined"
     ]
    }
   ],
   "source": [
    "it_companies={\"Facebook\",\"Google\",\"Microsoft\",\"Apple\",\"IBM\",\"Oracle\",\"Amazon\"}\n",
    "print(\"Length if it_companies:\",len(it_companies))\n",
    "it_companies.add(\"Twitter\")\n",
    "print(it_companies)\n",
    "multiple={\"Sutherland\",\"Thomson reuters\",\"Hewlett-Packard\"}\n",
    "it_companies.update(multiple)\n",
    "print(it_companies)\n",
    "it_companies.remove(\"Oracle\")\n",
    "print(it_companies)\n",
    "it_companies.clear()\n",
    "print(it_companies)\n",
    "del it_companies\n",
    "print(it_companies)"
   ]
  },
  {
   "cell_type": "code",
   "execution_count": 52,
   "id": "fb4de8a6",
   "metadata": {
    "scrolled": true
   },
   "outputs": [
    {
     "name": "stdout",
     "output_type": "stream",
     "text": [
      "{19, 20, 22, 24, 25, 26, 27, 28}\n",
      "{19, 20, 22, 24, 25, 26}\n",
      "True\n",
      "False\n",
      "{19, 20, 22, 24, 25, 26, 27, 28}\n",
      "{19, 20, 22, 24, 25, 26, 27, 28}\n",
      "{27, 28}\n"
     ]
    },
    {
     "ename": "NameError",
     "evalue": "name 'A' is not defined",
     "output_type": "error",
     "traceback": [
      "\u001b[1;31m---------------------------------------------------------------------------\u001b[0m",
      "\u001b[1;31mNameError\u001b[0m                                 Traceback (most recent call last)",
      "\u001b[1;32m~\\AppData\\Local\\Temp\\ipykernel_22068\\118052198.py\u001b[0m in \u001b[0;36m<module>\u001b[1;34m\u001b[0m\n\u001b[0;32m     10\u001b[0m \u001b[1;32mdel\u001b[0m \u001b[0mA\u001b[0m\u001b[1;33m\u001b[0m\u001b[1;33m\u001b[0m\u001b[0m\n\u001b[0;32m     11\u001b[0m \u001b[1;32mdel\u001b[0m \u001b[0mB\u001b[0m\u001b[1;33m\u001b[0m\u001b[1;33m\u001b[0m\u001b[0m\n\u001b[1;32m---> 12\u001b[1;33m \u001b[0mprint\u001b[0m\u001b[1;33m(\u001b[0m\u001b[0mA\u001b[0m\u001b[1;33m)\u001b[0m\u001b[1;33m\u001b[0m\u001b[1;33m\u001b[0m\u001b[0m\n\u001b[0m\u001b[0;32m     13\u001b[0m \u001b[0mprint\u001b[0m\u001b[1;33m(\u001b[0m\u001b[0mB\u001b[0m\u001b[1;33m)\u001b[0m\u001b[1;33m\u001b[0m\u001b[1;33m\u001b[0m\u001b[0m\n",
      "\u001b[1;31mNameError\u001b[0m: name 'A' is not defined"
     ]
    }
   ],
   "source": [
    "A={19, 22, 24, 20, 25, 26}\n",
    "B={19, 22, 20, 25, 26, 24, 28, 27}\n",
    "print(A.union(B))\n",
    "print(A.intersection(B))\n",
    "print(A.issubset(B))\n",
    "print(A.isdisjoint(B))\n",
    "print(A.union(B))\n",
    "print(B.union(A))\n",
    "print(A.symmetric_difference(B))\n",
    "del A\n",
    "del B\n",
    "print(A)\n",
    "print(B)"
   ]
  },
  {
   "cell_type": "code",
   "execution_count": 53,
   "id": "c6d180f4",
   "metadata": {},
   "outputs": [
    {
     "name": "stdout",
     "output_type": "stream",
     "text": [
      "{19, 22, 24, 25, 26}\n",
      "8\n",
      "5\n",
      "comparing lengths of list and set: 3\n"
     ]
    }
   ],
   "source": [
    "age = [22, 19, 24, 25, 26, 24, 25, 24]\n",
    "s= set(age)\n",
    "print(s)\n",
    "print(len(age))\n",
    "print(len(s))\n",
    "print(\"comparing lengths of list and set:\",len(age)-len(s))"
   ]
  },
  {
   "cell_type": "code",
   "execution_count": 54,
   "id": "ee4bc5dd",
   "metadata": {},
   "outputs": [
    {
     "name": "stdout",
     "output_type": "stream",
     "text": [
      "2826.0\n",
      "188.4\n",
      "enter the radius:4\n",
      "area= 50.24\n"
     ]
    }
   ],
   "source": [
    "radius=30\n",
    "area_of_circle=3.14*radius**2\n",
    "print(area_of_circle)\n",
    "circum_of_circle=2*3.14*radius\n",
    "print(circum_of_circle)\n",
    "radius=int(input(\"enter the radius:\"))\n",
    "print(\"area=\",3.14*radius**2)"
   ]
  },
  {
   "cell_type": "code",
   "execution_count": 34,
   "id": "a4915fed",
   "metadata": {},
   "outputs": [
    {
     "name": "stdout",
     "output_type": "stream",
     "text": [
      "10\n"
     ]
    }
   ],
   "source": [
    "s=\"I am a teacher and I love to inspire and teach people\"\n",
    "p=set(s.split())\n",
    "print(len(p))"
   ]
  },
  {
   "cell_type": "code",
   "execution_count": 35,
   "id": "6ebcd4b4",
   "metadata": {},
   "outputs": [
    {
     "name": "stdout",
     "output_type": "stream",
     "text": [
      "Name\t\t Age\t Country\t City\n",
      "Asabeneh\t 250\t Finland\t Helsinki\n"
     ]
    }
   ],
   "source": [
    "print(\"Name\\t\\t Age\\t Country\\t City\\nAsabeneh\\t 250\\t Finland\\t Helsinki\")"
   ]
  },
  {
   "cell_type": "code",
   "execution_count": 44,
   "id": "8c1d729b",
   "metadata": {},
   "outputs": [
    {
     "name": "stdout",
     "output_type": "stream",
     "text": [
      "The area of circle with radius 10 is 314.0 meters square.\n"
     ]
    }
   ],
   "source": [
    "radius = 10\n",
    "\n",
    "area=3.14 *radius**2\n",
    "\n",
    "print(\"The area of circle with radius {} is {} meters square.\".format(str(radius),str(area)))\n",
    "\n"
   ]
  },
  {
   "cell_type": "code",
   "execution_count": 48,
   "id": "8caadfea",
   "metadata": {},
   "outputs": [
    {
     "name": "stdout",
     "output_type": "stream",
     "text": [
      "enter no of students:4\n",
      "enter the weight in lbs:150 155 145 148\n",
      "Weight in kgs is: [68.04]\n",
      "Weight in kgs is: [68.04, 70.31]\n",
      "Weight in kgs is: [68.04, 70.31, 65.77]\n",
      "Weight in kgs is: [68.04, 70.31, 65.77, 67.13]\n"
     ]
    }
   ],
   "source": [
    "N = int(input(\"enter no of students:\"))\n",
    "L = list(map(int,input(\"enter the weight in lbs:\").strip().split()))[:N]\n",
    "K = []\n",
    "\n",
    "for i in L:\n",
    "    kg=i*0.45359237\n",
    "    \n",
    "    K.append(round(kg,2))\n",
    "    \n",
    "    print(\"Weight in kgs is:\",K)"
   ]
  },
  {
   "cell_type": "code",
   "execution_count": null,
   "id": "12d4cb4b",
   "metadata": {},
   "outputs": [],
   "source": []
  }
 ],
 "metadata": {
  "kernelspec": {
   "display_name": "Python 3 (ipykernel)",
   "language": "python",
   "name": "python3"
  },
  "language_info": {
   "codemirror_mode": {
    "name": "ipython",
    "version": 3
   },
   "file_extension": ".py",
   "mimetype": "text/x-python",
   "name": "python",
   "nbconvert_exporter": "python",
   "pygments_lexer": "ipython3",
   "version": "3.9.13"
  }
 },
 "nbformat": 4,
 "nbformat_minor": 5
}
